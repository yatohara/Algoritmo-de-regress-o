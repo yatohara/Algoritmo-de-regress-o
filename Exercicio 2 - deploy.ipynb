{
 "cells": [
  {
   "cell_type": "code",
   "execution_count": 23,
   "id": "a633f562-0560-4248-913f-6e35ef5f1a0d",
   "metadata": {},
   "outputs": [],
   "source": [
    "import joblib as jb\n",
    "import streamlit as st\n",
    "import pandas as pd\n",
    "\n",
    "\n",
    "model = jb.load(r\"C:\\Users\\yujio\\Aulas_python\\Data science\\1. Algoritmos supervisionados\\1.2. Regressão\\model.pkl\")\n",
    "numeric_columns = {'age': 0, 'bmi': 0, 'children': 0}\n",
    "boolean_columns = {'smoker': 0}\n",
    "categorical_columns = {'sex': ['female', 'male'],\n",
    "                       'region': ['northeast', 'northwest', 'southeast', 'southwest']\n",
    "                      }\n",
    "\n",
    "for column_name in numeric_columns:\n",
    "    \n",
    "    if column_name == 'bmi':\n",
    "        value = st.number_input(f'{column_name}', step=0.001, value=0.0, format=\"%.3f\")\n",
    "    else:\n",
    "        value = st.number_input(f'{column_name}', step=1, value=0)\n",
    "    numeric_columns[column_name] = value\n",
    "\n",
    "    \n",
    "for column_name in boolean_columns:\n",
    "    \n",
    "    value = st.selectbox(f'{column_name}', ('yes', 'no')) \n",
    "    if value == 'yes':\n",
    "        boolean_columns[column_name] = 1\n",
    "    else:\n",
    "        boolean_columns[column_name] = 0\n",
    "\n",
    "temp2_dic = {}\n",
    "temp1_dic = {f'{column_name}_{category}':0 for column_name, categories in categorical_columns.items() for category in categories}\n",
    "for column_name in categorical_columns:\n",
    "    category = st.selectbox(f'{column_name}', categorical_columns[column_name])\n",
    "    temp1_dic[f'{column_name}_{category}'] = 1  \n",
    "\n",
    "    \n",
    "btn = st.button(\"Predict medical charges\")\n",
    "if btn:\n",
    "    temp2_dic.update(numeric_columns)\n",
    "    temp2_dic.update(boolean_columns)\n",
    "    temp2_dic.update(temp1_dic)\n",
    "    data = pd.DataFrame(temp2_dic, index=[0])\n",
    "    charges = model.predict(data)\n",
    "    st.write(charges[0])\n",
    "    "
   ]
  }
 ],
 "metadata": {
  "kernelspec": {
   "display_name": "Python 3 (ipykernel)",
   "language": "python",
   "name": "python3"
  },
  "language_info": {
   "codemirror_mode": {
    "name": "ipython",
    "version": 3
   },
   "file_extension": ".py",
   "mimetype": "text/x-python",
   "name": "python",
   "nbconvert_exporter": "python",
   "pygments_lexer": "ipython3",
   "version": "3.9.21"
  }
 },
 "nbformat": 4,
 "nbformat_minor": 5
}
